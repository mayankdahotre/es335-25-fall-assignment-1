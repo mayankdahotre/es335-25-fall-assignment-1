{
 "cells": [
  {
   "cell_type": "code",
   "execution_count": 22,
   "id": "c0076966",
   "metadata": {},
   "outputs": [
    {
     "name": "stdout",
     "output_type": "stream",
     "text": [
      "c:\\Users\\Mayank Dahotre\\Desktop\\es335-25-fall-assignment-1-new\\HAR\n"
     ]
    }
   ],
   "source": [
    "cd HAR"
   ]
  },
  {
   "cell_type": "code",
   "execution_count": 14,
   "id": "e953ae8e",
   "metadata": {},
   "outputs": [],
   "source": [
    "!python DownloadHARdataset.py"
   ]
  },
  {
   "cell_type": "code",
   "execution_count": 23,
   "id": "20e4ea7d",
   "metadata": {},
   "outputs": [
    {
     "name": "stdout",
     "output_type": "stream",
     "text": [
      "Loading feature data from c:\\Users\\Mayank Dahotre\\Desktop\\es335-25-fall-assignment-1-new\\Datasets\\UCI HAR Dataset\\train...\n",
      "Loading feature data from c:\\Users\\Mayank Dahotre\\Desktop\\es335-25-fall-assignment-1-new\\Datasets\\UCI HAR Dataset\\test...\n",
      "X_train shape: (126, 36, 561)\n",
      "X_test shape: (54, 36, 561)\n",
      "y_train shape: (126,)\n",
      "y_test shape: (54,)\n"
     ]
    }
   ],
   "source": [
    "!python MakeHARDataset.py"
   ]
  },
  {
   "cell_type": "code",
   "execution_count": 24,
   "id": "774d2ec9",
   "metadata": {},
   "outputs": [
    {
     "name": "stdout",
     "output_type": "stream",
     "text": [
      "Done Combining the training data\n",
      "Done Combining the testing data\n",
      "Done Combining the data\n"
     ]
    }
   ],
   "source": [
    "!python CombineScript.py"
   ]
  },
  {
   "cell_type": "code",
   "execution_count": 25,
   "id": "9e8e379b",
   "metadata": {},
   "outputs": [
    {
     "name": "stdout",
     "output_type": "stream",
     "text": [
      "Training data shape:  (126, 500, 3)\n",
      "Testing data shape:  (54, 500, 3)\n"
     ]
    }
   ],
   "source": [
    "!python MakeDataset.py"
   ]
  },
  {
   "cell_type": "code",
   "execution_count": 26,
   "id": "80b11cde",
   "metadata": {},
   "outputs": [
    {
     "name": "stdout",
     "output_type": "stream",
     "text": [
      "c:\\Users\\Mayank Dahotre\\Desktop\\es335-25-fall-assignment-1-new\n"
     ]
    }
   ],
   "source": [
    "cd .."
   ]
  },
  {
   "cell_type": "code",
   "execution_count": 19,
   "id": "0c805c76",
   "metadata": {},
   "outputs": [],
   "source": [
    "# run \n",
    "# python Asst#1_generate-features.py"
   ]
  },
  {
   "cell_type": "code",
   "execution_count": 20,
   "id": "b356bd92",
   "metadata": {},
   "outputs": [],
   "source": [
    "# run \n",
    "# python Asst#1_preprocess_tsfel_dataset.ipynb"
   ]
  },
  {
   "cell_type": "code",
   "execution_count": null,
   "id": "619e53f3",
   "metadata": {},
   "outputs": [],
   "source": []
  }
 ],
 "metadata": {
  "kernelspec": {
   "display_name": "Python 3",
   "language": "python",
   "name": "python3"
  },
  "language_info": {
   "codemirror_mode": {
    "name": "ipython",
    "version": 3
   },
   "file_extension": ".py",
   "mimetype": "text/x-python",
   "name": "python",
   "nbconvert_exporter": "python",
   "pygments_lexer": "ipython3",
   "version": "3.13.3"
  }
 },
 "nbformat": 4,
 "nbformat_minor": 5
}
